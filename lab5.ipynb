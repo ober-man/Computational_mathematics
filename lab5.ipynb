{
 "cells": [
  {
   "cell_type": "markdown",
   "id": "bc88b5e1",
   "metadata": {},
   "source": [
    "# Lab work 5\n",
    "## Numerical integration"
   ]
  },
  {
   "cell_type": "markdown",
   "id": "7309f1b3",
   "metadata": {},
   "source": [
    "## 1. Rectangle method (Riemann sum)"
   ]
  },
  {
   "cell_type": "markdown",
   "id": "cacf78c4",
   "metadata": {},
   "source": [
    "Let $ f: I = [a,b] \\rightarrow \\mathbb R $ be our function and $ P = \\{a = x_0, x_1 ... x_{n-1}, x_n = b \\} $ be a partition of $I$  \n",
    "A Rienmann sum $S$ of the function $f$ over the interval $I$ is defined as $ S = \\sum\\limits_{i=1}^{n} f(\\xi_i) \\Delta x_i $,  \n",
    "where $ \\Delta x_i = x_i - x_{i-1} $ and $ \\xi_i \\in [x_{i-1}, x_{i}] $  \n",
    "and $ \\int\\limits^a_b f(x)dx \\approx \\sum\\limits_{i=1}^{n} f(\\xi_i) \\Delta x_i $  \n",
    "So, chosing the different $\\xi_i$, we can make some formulas for numerical integration:  \n",
    "1) $\\xi_i = x_{i-1}$ - left rule: $ \\int\\limits^a_b f(x)dx \\approx \\sum\\limits_{i=1}^{n} f(x_{i-1})(x_i-x_{i-1}) $  \n",
    "2) $\\xi_i = x_{i}$ - right rule: $ \\int\\limits^a_b f(x)dx \\approx \\sum\\limits_{i=1}^{n} f(x_i)(x_i-x_{i-1}) $  \n",
    "3) $\\xi_i = x_{i-1/2} = \\frac{x_i+x_{i-1}}{2} $ - midpoint rule: $ \\int\\limits^a_b f(x)dx \\approx \\sum\\limits_{i=1}^{n} f(x_{i-1/2})(x_i-x_{i-1}) $ "
   ]
  },
  {
   "cell_type": "code",
   "execution_count": 1,
   "id": "d86df77e",
   "metadata": {},
   "outputs": [
    {
     "data": {
      "image/png": "[encoded data removed]",
      "text/plain": [
       "<Figure size 432x288 with 1 Axes>"
      ]
     },
     "metadata": {
      "needs_background": "light"
     },
     "output_type": "display_data"
    },
    {
     "name": "stdout",
     "output_type": "stream",
     "text": [
      "Real function\n",
      "Left:  1.999832163893993\n",
      "Right:  1.9998321638939929\n",
      "Middle:  2.0000839191093354\n",
      "\n",
      "Grid function\n",
      "Left:  1.999832163893993\n",
      "Right:  1.9998321638939929\n",
      "Middle:  1.9998321638939924\n"
     ]
    }
   ],
   "source": [
    "import numpy as np\n",
    "import matplotlib.pyplot as plt \n",
    "\n",
    "def leftRectFunc(x, func):\n",
    "    n = len(x)\n",
    "    sum = 0\n",
    "    for i in range(1, n):\n",
    "        sum += func(x[i-1])*(x[i]-x[i-1])\n",
    "    return sum\n",
    "\n",
    "def leftRectGrid(x, func):\n",
    "    n = len(x)\n",
    "    sum = 0\n",
    "    for i in range(1, n):\n",
    "        sum += func[i-1]*(x[i]-x[i-1])\n",
    "    return sum\n",
    "\n",
    "def rightRectFunc(x, func):\n",
    "    n = len(x)\n",
    "    sum = 0\n",
    "    for i in range(1, n):\n",
    "        sum += func(x[i])*(x[i]-x[i-1])\n",
    "    return sum\n",
    "\n",
    "def rightRectGrid(x, func):\n",
    "    n = len(x)\n",
    "    sum = 0\n",
    "    for i in range(1, n):\n",
    "        sum += func[i]*(x[i]-x[i-1])\n",
    "    return sum\n",
    "\n",
    "def midRectFunc(x, func):\n",
    "    n = len(x)\n",
    "    sum = 0\n",
    "    for i in range(1, n):\n",
    "        sum += func((x[i]+x[i-1])/2)*(x[i]-x[i-1])\n",
    "    return sum\n",
    "\n",
    "def midRectGrid(x, func):\n",
    "    n = len(x)\n",
    "    sum = 0\n",
    "    for i in range(1, n):\n",
    "        sum += (func[i]+func[i-1])/2*(x[i]-x[i-1])\n",
    "    return sum\n",
    "\n",
    "func = lambda x: np.sin(x)\n",
    "a = 0\n",
    "b = np.pi\n",
    "n = 100\n",
    "\n",
    "x = np.linspace(a, b, n)\n",
    "f = func(x)\n",
    "plt.plot(x, f)\n",
    "plt.show()\n",
    "\n",
    "print(\"Real function\")\n",
    "print(\"Left: \", leftRectFunc(x, func))\n",
    "print(\"Right: \", rightRectFunc(x, func))\n",
    "print(\"Middle: \", midRectFunc(x, func))\n",
    "print(\"\\nGrid function\")\n",
    "print(\"Left: \", leftRectGrid(x, f))\n",
    "print(\"Right: \", rightRectGrid(x, f))\n",
    "print(\"Middle: \", midRectGrid(x, f))"
   ]
  },
  {
   "cell_type": "markdown",
   "id": "b403f37a",
   "metadata": {},
   "source": [
    "## 1.1 Accuracy"
   ]
  },
  {
   "cell_type": "code",
   "execution_count": 2,
   "id": "f7d4beed",
   "metadata": {
    "scrolled": true
   },
   "outputs": [
    {
     "name": "stdout",
     "output_type": "stream",
     "text": [
      "Order of accuracy =  2.0649834701423866\n"
     ]
    },
    {
     "data": {
      "image/png": "[encoded data removed]",
      "text/plain": [
       "<Figure size 432x288 with 1 Axes>"
      ]
     },
     "metadata": {
      "needs_background": "light"
     },
     "output_type": "display_data"
    }
   ],
   "source": [
    "index = np.log([i for i in range(10, 100)])\n",
    "value = np.log([abs(leftRectFunc(np.linspace(0, np.pi, i), func)-2) for i in range(10, 100)])\n",
    "a1, b1 = np.polyfit(index, value, 1)\n",
    "print(\"Order of accuracy = \", -a1)\n",
    "plt.plot(index, value)\n",
    "plt.show()"
   ]
  },
  {
   "cell_type": "markdown",
   "id": "e913e200",
   "metadata": {},
   "source": [
    "## 1.2 Runge amendment"
   ]
  },
  {
   "cell_type": "markdown",
   "id": "79a8290f",
   "metadata": {},
   "source": [
    "The accuracy can be estimated by the next formula:\n",
    "$$ \\varepsilon = \\Theta |I_{2n} - I_{n}|, $$  \n",
    "where $ \\Theta = \\frac{1}{2^{p}-1} $,  $p$ is an order of accuracy, $I_n$ and $I_{2n}$ is a numerical value of integral with $n$ and $2n$ points accordingly  \n",
    "So, the rectangle rule accuracy can be estimated as $$ \\varepsilon = \\frac{1}{3} |I_{2n} - I_{n}| $$"
   ]
  },
  {
   "cell_type": "code",
   "execution_count": 3,
   "id": "68dc4509",
   "metadata": {},
   "outputs": [
    {
     "name": "stdout",
     "output_type": "stream",
     "text": [
      "Real function\n",
      "Left:  0.0001724381899770311\n",
      "Right:  0.00017243818997680904\n",
      "Middle:  8.622461068489666e-05\n",
      "\n",
      "Grid function\n",
      "Left:  0.014566538313386168\n",
      "Right:  0.006802150217326479\n",
      "Middle:  0.003882194048029882\n"
     ]
    }
   ],
   "source": [
    "def Runge(n, a, b, p, func, method):\n",
    "    x = np.linspace(a, b, n)\n",
    "    x_2 = np.linspace(a, b, n//2)\n",
    "    return abs(method(x, func) - method(x_2, func))/(2**(p)-1)\n",
    "\n",
    "\n",
    "print(\"Real function\")\n",
    "print(\"Left: \", Runge(n, a, b, 2, func, leftRectFunc))\n",
    "print(\"Right: \", Runge(n, a, b, 2, func, rightRectFunc))\n",
    "print(\"Middle: \", Runge(n, a, b, 2, func, midRectFunc))\n",
    "print(\"\\nGrid function\")\n",
    "print(\"Left: \", Runge(n, a, b, 2, f, leftRectGrid))\n",
    "print(\"Right: \", Runge(n, a, b, 2, f, rightRectGrid))\n",
    "print(\"Middle: \", Runge(n, a, b, 2, f, midRectGrid))"
   ]
  },
  {
   "cell_type": "markdown",
   "id": "3994b608",
   "metadata": {},
   "source": [
    "## 2. Simpson rule"
   ]
  },
  {
   "cell_type": "markdown",
   "id": "fea3ec9d",
   "metadata": {},
   "source": [
    "Let's use Lagrange polynomial interpolation with second degree polynomial on the each interval. Then:\n",
    "$$ I = \\int\\limits^b_a f(x)dx = \\sum\\limits_{i=1}^{n-1} I(i) $$\n",
    "$$ I(i) = \\int\\limits_{x_i}^{x_{i+1}} L_2(x)dx $$\n",
    "$$ L_2(x) = f_i l_i + f_{i+1/2} l_{i+1/2} + f_{i+1} l_{i+1} $$\n",
    "If we substitute all variables, we will get the Simpson formula:\n",
    "$$ I = \\frac{1}{6} \\sum\\limits_{i=1}^{n-1} (f_i + 4f_{i+1/2} + f_{i+1})(x_{i+1}-x_i) $$"
   ]
  },
  {
   "cell_type": "code",
   "execution_count": 4,
   "id": "5012d773",
   "metadata": {},
   "outputs": [
    {
     "data": {
      "image/png": "[encoded data removed]",
      "text/plain": [
       "<Figure size 432x288 with 1 Axes>"
      ]
     },
     "metadata": {
      "needs_background": "light"
     },
     "output_type": "display_data"
    },
    {
     "name": "stdout",
     "output_type": "stream",
     "text": [
      "Real function\n",
      "Integral =  2.000000000704222\n",
      "\n",
      "Grid function\n",
      "Integral =  1.999832163893993\n"
     ]
    }
   ],
   "source": [
    "def SimpsonFunc(x, func):\n",
    "    n = len(x)\n",
    "    sum = 0\n",
    "    for i in range(n-1):\n",
    "        sum += (func(x[i])+4*func((x[i]+x[i+1])/2)+func(x[i+1]))*(x[i+1]-x[i])/6\n",
    "    return sum\n",
    "\n",
    "def SimpsonGrid(x, func):\n",
    "    n = len(x)\n",
    "    sum = 0\n",
    "    for i in range(n-1):\n",
    "        sum += (func[i]+4*(func[i]+func[i+1])/2+f[i+1])*(x[i+1]-x[i])/6\n",
    "    return sum\n",
    "\n",
    "func = lambda x: np.sin(x)\n",
    "a = 0\n",
    "b = np.pi\n",
    "n = 100\n",
    "\n",
    "x = np.linspace(a, b, n)\n",
    "f = func(x)\n",
    "plt.plot(x, f)\n",
    "plt.show()\n",
    "\n",
    "print(\"Real function\")\n",
    "print(\"Integral = \", SimpsonFunc(x, func))\n",
    "print(\"\\nGrid function\")\n",
    "print(\"Integral = \", SimpsonGrid(x, f))"
   ]
  },
  {
   "cell_type": "markdown",
   "id": "a0034407",
   "metadata": {},
   "source": [
    "## 2.1 Accuracy"
   ]
  },
  {
   "cell_type": "code",
   "execution_count": 5,
   "id": "cbc3dc9e",
   "metadata": {},
   "outputs": [
    {
     "name": "stdout",
     "output_type": "stream",
     "text": [
      "Order of accuracy =  4.129863037756942\n"
     ]
    },
    {
     "data": {
      "image/png": "[encoded data removed]",
      "text/plain": [
       "<Figure size 432x288 with 1 Axes>"
      ]
     },
     "metadata": {
      "needs_background": "light"
     },
     "output_type": "display_data"
    }
   ],
   "source": [
    "index = np.log([i for i in range(10, 100)])\n",
    "value = np.log([abs(SimpsonFunc(np.linspace(0, np.pi, i), func)-2) for i in range(10, 100)])\n",
    "a1, b1 = np.polyfit(index, value, 1)\n",
    "print(\"Order of accuracy = \", -a1)\n",
    "plt.plot(index, value)\n",
    "plt.show()"
   ]
  },
  {
   "cell_type": "markdown",
   "id": "efe3b887",
   "metadata": {},
   "source": [
    "## 2.2 Runge amendment"
   ]
  },
  {
   "cell_type": "code",
   "execution_count": 6,
   "id": "4d900667",
   "metadata": {
    "scrolled": true
   },
   "outputs": [
    {
     "name": "stdout",
     "output_type": "stream",
     "text": [
      "Real function:  7.354261200021028e-10\n",
      "\n",
      "Grid function:  0.000776438809606006\n"
     ]
    }
   ],
   "source": [
    "print(\"Real function: \", Runge(n, a, b, 4, func, SimpsonFunc))\n",
    "print(\"\\nGrid function: \", Runge(n, a, b, 4, f, SimpsonGrid))"
   ]
  },
  {
   "cell_type": "markdown",
   "id": "aac5e8b4",
   "metadata": {},
   "source": [
    "## 3. Trapezoidal rule"
   ]
  },
  {
   "cell_type": "markdown",
   "id": "3a2744fe",
   "metadata": {},
   "source": [
    "Let's approximate the function on the each interval as a linear function. Then we get a trapezoidal rule:\n",
    "$$ I = \\frac{1}{2} \\sum\\limits_{i=1}^{n-1} (f(x_i) + f(x_{i+1}))(x_{i+1}-x_i) $$"
   ]
  },
  {
   "cell_type": "code",
   "execution_count": 7,
   "id": "467656c6",
   "metadata": {},
   "outputs": [
    {
     "data": {
      "image/png": "[encoded data removed]",
      "text/plain": [
       "<Figure size 432x288 with 1 Axes>"
      ]
     },
     "metadata": {
      "needs_background": "light"
     },
     "output_type": "display_data"
    },
    {
     "name": "stdout",
     "output_type": "stream",
     "text": [
      "Real function\n",
      "Integral =  1.9998321638939924\n",
      "\n",
      "Grid function\n",
      "Integral =  1.9998321638939924\n"
     ]
    }
   ],
   "source": [
    "def trapezoidFunc(x, func):\n",
    "    n = len(x)\n",
    "    sum = 0\n",
    "    for i in range(1, n):\n",
    "        sum += (func(x[i])+func(x[i-1]))*(x[i]-x[i-1])/2\n",
    "    return sum\n",
    "\n",
    "def trapezoidGrid(x, func):\n",
    "    n = len(x)\n",
    "    sum = 0\n",
    "    for i in range(1, n):\n",
    "        sum += (func[i]+func[i-1])*(x[i]-x[i-1])/2\n",
    "    return sum\n",
    "\n",
    "func = lambda x: np.sin(x)\n",
    "a = 0\n",
    "b = np.pi\n",
    "n = 100\n",
    "\n",
    "x = np.linspace(a, b, n)\n",
    "f = func(x)\n",
    "plt.plot(x, f)\n",
    "plt.show()\n",
    "\n",
    "print(\"Real function\")\n",
    "print(\"Integral = \", trapezoidFunc(x, func))\n",
    "print(\"\\nGrid function\")\n",
    "print(\"Integral = \", trapezoidGrid(x, f))"
   ]
  },
  {
   "cell_type": "markdown",
   "id": "5e51861f",
   "metadata": {},
   "source": [
    "## 3.1 Accuracy"
   ]
  },
  {
   "cell_type": "code",
   "execution_count": 8,
   "id": "80c12c2f",
   "metadata": {},
   "outputs": [
    {
     "name": "stdout",
     "output_type": "stream",
     "text": [
      "Order of accuracy =  2.064983470142852\n"
     ]
    },
    {
     "data": {
      "image/png": "[encoded data removed]",
      "text/plain": [
       "<Figure size 432x288 with 1 Axes>"
      ]
     },
     "metadata": {
      "needs_background": "light"
     },
     "output_type": "display_data"
    }
   ],
   "source": [
    "index = np.log([i for i in range(10, 100)])\n",
    "value = np.log([abs(trapezoidFunc(np.linspace(0, np.pi, i), func)-2) for i in range(10, 100)])\n",
    "a1, b1 = np.polyfit(index, value, 1)\n",
    "print(\"Order of accuracy = \", -a1)\n",
    "plt.plot(index, value)\n",
    "plt.show()"
   ]
  },
  {
   "cell_type": "markdown",
   "id": "f6ebb96c",
   "metadata": {},
   "source": [
    "## 3.2 Runge amendment"
   ]
  },
  {
   "cell_type": "code",
   "execution_count": 9,
   "id": "cf14a04f",
   "metadata": {},
   "outputs": [
    {
     "name": "stdout",
     "output_type": "stream",
     "text": [
      "Real function:  0.00017243818997666102\n",
      "\n",
      "Grid function:  0.003882194048029882\n"
     ]
    }
   ],
   "source": [
    "print(\"Real function: \", Runge(n, a, b, 2, func, trapezoidFunc))\n",
    "print(\"\\nGrid function: \", Runge(n, a, b, 2, f, trapezoidGrid))"
   ]
  },
  {
   "cell_type": "markdown",
   "id": "2039507c",
   "metadata": {},
   "source": [
    "## 4. Improper integral"
   ]
  },
  {
   "cell_type": "markdown",
   "id": "02d430bc",
   "metadata": {},
   "source": [
    "An improrer integral can be estimated as:\n",
    "$$ \\int\\limits^{\\infty}_a f(x)dx = \\int\\limits^{A}_{a} f(x)dx + \\int\\limits^{\\infty}_{A} f(x)dx $$\n",
    "where $A$ is big enough to think $ \\int\\limits^{\\infty}_{A} f(x)dx = \\varepsilon $"
   ]
  },
  {
   "cell_type": "code",
   "execution_count": 11,
   "id": "57313b33",
   "metadata": {
    "scrolled": false
   },
   "outputs": [
    {
     "name": "stdout",
     "output_type": "stream",
     "text": [
      "Integral =  0.505464798448166\n"
     ]
    },
    {
     "data": {
      "image/png": "[encoded data removed]",
      "text/plain": [
       "<Figure size 432x288 with 1 Axes>"
      ]
     },
     "metadata": {
      "needs_background": "light"
     },
     "output_type": "display_data"
    },
    {
     "name": "stdout",
     "output_type": "stream",
     "text": [
      "accuracy =  0.00139779844816601\n"
     ]
    }
   ],
   "source": [
    "def improper(a, A, n, func):\n",
    "    x = np.linspace(a, A, n)\n",
    "    return SimpsonFunc(x, func)\n",
    "    \n",
    "func = lambda x: np.sin(x) / x**2\n",
    "a = 1\n",
    "A = 1000\n",
    "n = 1000\n",
    "x = np.linspace(a, A, n)\n",
    "I = improper(a, A, n, func)\n",
    "print(\"Integral = \", I)\n",
    "plt.plot(x, func(x))\n",
    "plt.show()\n",
    "print(\"accuracy = \", abs(0.504067 - I))"
   ]
  }
 ],
 "metadata": {
  "kernelspec": {
   "display_name": "Python 3 (ipykernel)",
   "language": "python",
   "name": "python3"
  },
  "language_info": {
   "codemirror_mode": {
    "name": "ipython",
    "version": 3
   },
   "file_extension": ".py",
   "mimetype": "text/x-python",
   "name": "python",
   "nbconvert_exporter": "python",
   "pygments_lexer": "ipython3",
   "version": "3.9.7"
  }
 },
 "nbformat": 4,
 "nbformat_minor": 5
}
