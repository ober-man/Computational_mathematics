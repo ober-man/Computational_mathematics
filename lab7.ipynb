{
 "cells": [
  {
   "cell_type": "markdown",
   "id": "91419d71",
   "metadata": {},
   "source": [
    "# Lab work 7\n",
    "## Numerical solving of the boundary value problem"
   ]
  },
  {
   "cell_type": "markdown",
   "id": "aa53c04f",
   "metadata": {},
   "source": [
    "We consider a 2-order differential equation $ y'' = f(x,y,y') $ on an interval $[a, b]$ with the boundary conditions  \n",
    "$$ \\alpha_1 y(a) + \\beta_1 y'(a) = y_a $$\n",
    "$$ y(b) = y_b $$"
   ]
  },
  {
   "cell_type": "markdown",
   "id": "dd78b1a9",
   "metadata": {},
   "source": [
    "## 1. Shooting method"
   ]
  },
  {
   "cell_type": "markdown",
   "id": "8e1ec034",
   "metadata": {},
   "source": [
    "Let $y'(a)$ be a random number $\\xi$. Then we get $y(a)$ from the boundary condition and set a Cauchy problem with these initial conditions:  \n",
    "$$ \\begin{cases}\n",
    "   y' = z \\\\\n",
    "   z' = f(x,y,z)\n",
    "   \\end{cases}\n",
    "$$\n",
    "It can be solved with previously learned methods and result $ y(\\xi, x) $ can be used to find a value in the point $x=b$.  \n",
    "If $ y(\\xi, b) = y_b $, the task is solved.  \n",
    "Else there can be 2 variants:  \n",
    "a) If $ y(\\xi, b) > y_b $, then the \"shooting angle\" $\\xi$ must be changed to find a value $\\eta$, $ y(\\eta, b) < y_b $  \n",
    "b) else if $ y(\\xi, b) < y_b $, then $ y(\\eta, b) > y_b $  \n",
    "Then we make an iterative procedure with using a bisection method to find a correct angle $\\zeta$:  \n",
    "$$ \\xi = \\zeta_1, \\eta = \\zeta_2 $$\n",
    "$$ \\zeta_{n+1} = \\frac{\\zeta_{n-1} + \\zeta_n}{2} $$"
   ]
  },
  {
   "cell_type": "code",
   "execution_count": 2,
   "id": "e3d0d0db",
   "metadata": {},
   "outputs": [],
   "source": [
    "import matplotlib.pyplot as plt\n",
    "import numpy as np\n",
    "\n",
    "y_real = lambda x: np.sin(x)\n",
    "p = lambda x: x\n",
    "q = lambda x: 1\n",
    "f = lambda x: x*np.cos(x)\n",
    "func = lambda x, y, z: f(x) - p(x)*z - q(x)*y\n",
    "\n",
    "n = 100\n",
    "a = 0\n",
    "b = np.pi\n",
    "eps = 1e-5\n",
    "alpha = 2\n",
    "beta = 3\n",
    "ya = 3\n",
    "yb = 0\n",
    "# 2*y(0) + 3*y'(0) = 3\n",
    "# y(pi) = 0"
   ]
  },
  {
   "cell_type": "code",
   "execution_count": 3,
   "id": "2be9b4b9",
   "metadata": {
    "scrolled": true
   },
   "outputs": [
    {
     "data": {
      "image/png": "[encoded data removed]",
      "text/plain": [
       "<Figure size 432x288 with 1 Axes>"
      ]
     },
     "metadata": {
      "needs_background": "light"
     },
     "output_type": "display_data"
    }
   ],
   "source": [
    "def RungeKutta(x, y0, y_0, func_y, func_y_):\n",
    "    n = len(x)\n",
    "    y = []\n",
    "    y_ = []\n",
    "    y.append(y0)\n",
    "    y_.append(y_0)\n",
    "    for i in range(1, n):\n",
    "        h = x[i]-x[i-1]\n",
    "        k1 = func_y(x[i-1], y[i-1], y_[i-1])\n",
    "        q1 = func_y_(x[i-1], y[i-1], y_[i-1])\n",
    "        k2 = func_y(x[i-1]+h/2, y[i-1]+h*k1/2, y_[i-1]+h*q1/2)\n",
    "        q2 = func_y_(x[i-1]+h/2, y[i-1]+h*k1/2, y_[i-1]+h*q1/2)        \n",
    "        k3 = func_y(x[i-1]+h/2, y[i-1]+h*k2/2, y_[i-1]+h*q2/2)\n",
    "        q3 = func_y_(x[i-1]+h/2, y[i-1]+h*k2/2, y_[i-1]+h*q2/2)\n",
    "        k4 = func_y(x[i-1]+h, y[i-1]+h*k3, y_[i-1]+h*q3)\n",
    "        q4 = func_y_(x[i-1]+h, y[i-1]+h*k3, y_[i-1]+h*q3)\n",
    "        y.append(y[i-1] + h/6*(k1+2*k2+2*k3+k4))\n",
    "        y_.append(y_[i-1] + h/6*(q1+2*q2+2*q3+q4))\n",
    "    return y\n",
    "\n",
    "def shoot(x, alpha, beta, ya, yb, f, eps):\n",
    "    xi = ya\n",
    "    eta = xi\n",
    "    y0 = (ya - beta*xi)/alpha\n",
    "    u = lambda x, y, z: z\n",
    "    y = RungeKutta(x, y0, xi, u, f)\n",
    "    if(y[-1] - yb < 0):\n",
    "        while(y[-1] - yb < 0):\n",
    "            eta = -eta + 1\n",
    "            y0 = (ya - beta*eta)/alpha\n",
    "            y = RungeKutta(x, y0, eta, u, f)\n",
    "    elif(y[-1] - yb > 0):\n",
    "        while(y[-1] - yb > 0):\n",
    "            eta = -eta + 1\n",
    "            y0 = (ya - beta*eta)/alpha\n",
    "            y = RungeKutta(x, y0, eta, u, f)\n",
    "    elif(y[-1] - yb == 0):\n",
    "        return y\n",
    "    \n",
    "    zeta = (eta + xi) / 2\n",
    "    y0 = (ya - beta*zeta)/alpha\n",
    "    y = RungeKutta(x, y0, zeta, u, f)\n",
    "    while(abs(y[-1] - yb) > eps):\n",
    "        if (y[-1] - yb > 0):\n",
    "            xi = zeta\n",
    "        else:\n",
    "            eta = zeta\n",
    "            \n",
    "        zeta = (eta + xi) / 2\n",
    "        y0 = (ya - beta*zeta)/alpha\n",
    "        y = RungeKutta(x, y0, zeta, u, f)\n",
    "    return y\n",
    "\n",
    "x = np.linspace(a, b, n)\n",
    "y = shoot(x, alpha, beta, ya, yb, func, eps)\n",
    "plt.plot(x, y_real(x), label='real')\n",
    "plt.plot(x, y, label='solved')\n",
    "plt.show()"
   ]
  },
  {
   "cell_type": "markdown",
   "id": "9db09fd3",
   "metadata": {},
   "source": [
    "## 1.1 Accuracy"
   ]
  },
  {
   "cell_type": "code",
   "execution_count": 4,
   "id": "23ca9daa",
   "metadata": {},
   "outputs": [
    {
     "name": "stdout",
     "output_type": "stream",
     "text": [
      "Order of accuracy =  4.418040513834918\n"
     ]
    },
    {
     "data": {
      "image/png": "[encoded data removed]",
      "text/plain": [
       "<Figure size 432x288 with 1 Axes>"
      ]
     },
     "metadata": {
      "needs_background": "light"
     },
     "output_type": "display_data"
    }
   ],
   "source": [
    "index = np.log([i for i in range(10, 20)])\n",
    "value = np.log([max(abs(shoot(np.linspace(a, b, i), alpha, beta, ya, yb, func, eps)-np.sin(np.linspace(a, b, i)))) for i in range(10, 20)])\n",
    "a1, b1 = np.polyfit(index, value, 1)\n",
    "print(\"Order of accuracy = \", -a1)\n",
    "plt.plot(index, value)\n",
    "plt.show()"
   ]
  },
  {
   "cell_type": "markdown",
   "id": "298cfdb0",
   "metadata": {},
   "source": [
    "## 1.2 Linear equation"
   ]
  },
  {
   "cell_type": "markdown",
   "id": "eb90ef94",
   "metadata": {},
   "source": [
    "In a particular case - equation is linear, $ y'' + p(x)y' + q(x)y = f(x) $, it can be solved easier - only 2 shots.  \n",
    "The solution of it is a general solution of the homogeneous equation plus a particular solution of the inhomogeneous equation: $ y(x) = C \\cdot y_{hom}^{gen}(x) + y_{inhom}^{part}(x) $  \n",
    "Substituting the right point $x = b$, the constant $C$ can be found as \n",
    "$ C = \\frac{y(b)-y_{inhom}^{part}(b)}{y_{hom}^{gen}(b)} $"
   ]
  },
  {
   "cell_type": "code",
   "execution_count": 72,
   "id": "5e2cc1b5",
   "metadata": {},
   "outputs": [
    {
     "data": {
      "image/png": "[encoded data removed]",
      "text/plain": [
       "<Figure size 432x288 with 1 Axes>"
      ]
     },
     "metadata": {
      "needs_background": "light"
     },
     "output_type": "display_data"
    }
   ],
   "source": [
    "def linear(x, alpha, beta, ya, yb, p, q, f):\n",
    "    u = lambda x, y, z: z\n",
    "    hom = lambda x, y, z: -p(x) * z + -q(x) * y\n",
    "    inhom = lambda x, y, z: -p(x) * z + -q(x) * y + f(x)\n",
    "    xi = 1\n",
    "    y0 = (ya - beta*xi)/alpha\n",
    "    \n",
    "    y_hom = RungeKutta(x, y0, xi, u, hom) \n",
    "    y_inhom = RungeKutta(x, y0, xi, u, inhom) \n",
    "    leng = len(y_hom)\n",
    "    \n",
    "    y_hom_b = y_hom[-1]\n",
    "    y_inhom_b = y_inhom[-1]\n",
    "\n",
    "    const = (yb - y_inhom_b) / y_hom_b\n",
    "    \n",
    "    y = [const * y_hom[i] + y_inhom[i] for i in range(leng)]\n",
    "    return y\n",
    "\n",
    "x = np.linspace(a, b, n)\n",
    "y = linear(x, alpha, beta, ya, yb, p, q, f)\n",
    "plt.plot(x, y_real(x), label='real')\n",
    "plt.plot(x, y, label='solved')\n",
    "plt.show() "
   ]
  },
  {
   "cell_type": "markdown",
   "id": "0a127d15",
   "metadata": {},
   "source": [
    "## 1.3 Accuracy"
   ]
  },
  {
   "cell_type": "code",
   "execution_count": 20,
   "id": "33387204",
   "metadata": {
    "scrolled": false
   },
   "outputs": [
    {
     "name": "stdout",
     "output_type": "stream",
     "text": [
      "Order of accuracy =  4.313173202214544\n"
     ]
    },
    {
     "data": {
      "image/png": "[encoded data removed]",
      "text/plain": [
       "<Figure size 432x288 with 1 Axes>"
      ]
     },
     "metadata": {
      "needs_background": "light"
     },
     "output_type": "display_data"
    }
   ],
   "source": [
    "index = np.log([i for i in range(10, 60)])\n",
    "value = np.log([max(abs(linear(np.linspace(a, b, i), alpha, beta, ya, yb, p, q, f)-np.sin(np.linspace(a, b, i)))) for i in range(10, 60)])\n",
    "a1, b1 = np.polyfit(index, value, 1)\n",
    "print(\"Order of accuracy = \", -a1)\n",
    "plt.plot(index, value)\n",
    "plt.show()"
   ]
  },
  {
   "cell_type": "markdown",
   "id": "299a5e96",
   "metadata": {},
   "source": [
    "## 2. Finite difference method"
   ]
  },
  {
   "cell_type": "markdown",
   "id": "9d62ce48",
   "metadata": {},
   "source": [
    "Let's approximate derivatives with finite differences with the second order of accuracy:  \n",
    "$ y'' = \\frac{y_{i+1} - 2 y_i + y_{i-1}}{h^2} $  \n",
    "$ y'=\\frac{y_{i+1} - y_{i-1}}{2h} $  \n",
    "\n",
    "And values in edges have a special formula:  \n",
    "$ y'_0 = \\frac{-3 y_0 + 4 y_1 - y_2}{2h} $  \n",
    "$ y'_n = \\frac{3 y_n - 4 y_{n-1} + y_{n-2}}{2h} $"
   ]
  },
  {
   "cell_type": "code",
   "execution_count": 67,
   "id": "1065f142",
   "metadata": {},
   "outputs": [
    {
     "data": {
      "image/png": "[encoded data removed]",
      "text/plain": [
       "<Figure size 432x288 with 1 Axes>"
      ]
     },
     "metadata": {
      "needs_background": "light"
     },
     "output_type": "display_data"
    }
   ],
   "source": [
    "import numpy.linalg as la\n",
    "\n",
    "def smart_Gauss(A, b):\n",
    "    n = b.size\n",
    "    \n",
    "    # forward elimination\n",
    "    for j in range(0, n-1):\n",
    "        for i in range(j+1, n):\n",
    "            \n",
    "            #find a max element in j column\n",
    "            max = abs(A[j,j])\n",
    "            str = j\n",
    "            for k in range(j+1, n):\n",
    "                if abs(A[k,j]) > max:\n",
    "                    max = abs(A[k,j])\n",
    "                    str = k\n",
    "            \n",
    "            # if max element is 0, matrix is singular\n",
    "            if max == 0:\n",
    "                raise la.LinAlgError(\"Singular matrix\")\n",
    "                \n",
    "            # else change rows' positions\n",
    "            else:\n",
    "                for k in range(n):\n",
    "                    tmp = A[j,k]\n",
    "                    A[j,k] = A[str,k]\n",
    "                    A[str,k] = tmp\n",
    "            b[j], b[str] = b[str], b[j]\n",
    "            \n",
    "            num = A[i,j] / A[j,j]\n",
    "            A[i,j:n] -= num*A[j,j:n]\n",
    "            b[i] -= num*b[j]\n",
    "                \n",
    "    # back substitution\n",
    "    res = np.zeros(n)\n",
    "    # necessary and sufficient conditions of convergence of Gauss method\n",
    "    for i in range(n-1, -1, -1):\n",
    "        if A[i,i] != 0:\n",
    "            res[i] = (b[i] - np.dot(A[i,i+1:n], res[i+1:n])) / A[i,i]\n",
    "        else:\n",
    "            raise la.LinAlgError(\"Singular matrix\")\n",
    "    return res\n",
    "\n",
    "def finiteDiff(x, alpha, beta, ya, yb, p, q, f):\n",
    "    n = len(x)\n",
    "    h = (x[-1] - x[0])/(n-1)\n",
    "    M = np.zeros((n, n))\n",
    "    M[0][0] = alpha - 3*beta/2/h\n",
    "    M[0][1] = 4*beta/2/h\n",
    "    M[0][2] = -beta/2/h\n",
    "    M[-1][-1] = 1\n",
    "    for i in range(1, n-1):\n",
    "        M[i][i-1] = 1/(h*h) - p(x[i])/(2*h)\n",
    "        M[i][i] = q(x[i]) - 2/(h*h)\n",
    "        M[i][i+1] = 1/(h*h) + p(x[i])/(2*h)\n",
    "    F = np.zeros(n)\n",
    "    F[0] = ya\n",
    "    F[-1] = yb\n",
    "    for i in range(1, n-1):\n",
    "        F[i] = f(x[i])\n",
    "    y = smart_Gauss(M, F)\n",
    "    return y\n",
    "\n",
    "x = np.linspace(a, b, n)\n",
    "y = finiteDiff(x, alpha, beta, ya, yb, p, q, f)\n",
    "plt.plot(x, y_real(x), label='real')\n",
    "plt.plot(x, y, label='solved')\n",
    "plt.show() "
   ]
  },
  {
   "cell_type": "markdown",
   "id": "1ee26dbd",
   "metadata": {},
   "source": [
    "## 2.1 Accuracy"
   ]
  },
  {
   "cell_type": "code",
   "execution_count": 68,
   "id": "15a46cb3",
   "metadata": {
    "scrolled": false
   },
   "outputs": [
    {
     "name": "stdout",
     "output_type": "stream",
     "text": [
      "Order of accuracy =  2.079319611767246\n"
     ]
    },
    {
     "data": {
      "image/png": "[encoded data removed]",
      "text/plain": [
       "<Figure size 432x288 with 1 Axes>"
      ]
     },
     "metadata": {
      "needs_background": "light"
     },
     "output_type": "display_data"
    }
   ],
   "source": [
    "index = np.log([i for i in range(10, n)])\n",
    "value = np.log([max(abs(finiteDiff(np.linspace(a, b, i), alpha, beta, ya, yb, p, q, f)-np.sin(np.linspace(a, b, i)))) for i in range(10, n)])\n",
    "a1, b1 = np.polyfit(index, value, 1)\n",
    "print(\"Order of accuracy = \", -a1)\n",
    "plt.plot(index, value)\n",
    "plt.show()"
   ]
  },
  {
   "cell_type": "markdown",
   "id": "ede16145",
   "metadata": {},
   "source": [
    "## 2.2 Finite difference method with a fictional point"
   ]
  },
  {
   "cell_type": "markdown",
   "id": "ab908da1",
   "metadata": {},
   "source": [
    "Let's make a fictional point $x_{-1}$ to approximate the derivative in bound points:"
   ]
  },
  {
   "cell_type": "code",
   "execution_count": 69,
   "id": "ded4308a",
   "metadata": {
    "scrolled": true
   },
   "outputs": [
    {
     "data": {
      "image/png": "[encoded data removed]",
      "text/plain": [
       "<Figure size 432x288 with 1 Axes>"
      ]
     },
     "metadata": {
      "needs_background": "light"
     },
     "output_type": "display_data"
    }
   ],
   "source": [
    "def tridiag(A, b):\n",
    "    n = b.size\n",
    "    alpha = np.diagonal(A, offset = -1)\n",
    "    beta = np.diagonal(A)\n",
    "    gamma = np.diagonal(A, offset = 1)\n",
    "    \n",
    "    P = np.zeros(n)\n",
    "    P[0] = -gamma[0] / beta[0]\n",
    "    for i in range(1, n-1):\n",
    "        P[i] = gamma[i] / (-beta[i] - alpha[i-1]*P[i-1])\n",
    "    P[n-1] = 0\n",
    "    \n",
    "    Q = np.zeros(n)\n",
    "    Q[0] = b[0] / beta[0]\n",
    "    for i in range(1, n):\n",
    "        Q[i] = (alpha[i-1]*Q[i-1] - b[i]) / (-beta[i] - alpha[i-1]*P[i-1])\n",
    "        \n",
    "    x = np.zeros(n)\n",
    "    x[n-1] = Q[n-1]\n",
    "    for i in range(n-2, -1, -1):\n",
    "        x[i] = P[i]*x[i+1] + Q[i]\n",
    "    \n",
    "    return x\n",
    "\n",
    "\n",
    "def fictDot(x, alpha, beta, ya, yb, p, q, f):\n",
    "    n = len(x)\n",
    "    h = (x[-1] - x[0])/(n-1)\n",
    "    M = np.zeros((n,n))\n",
    "    M[0][0] = q(x[0]) - 2/h/h + 2*alpha/beta/h - alpha*p(x[0])/beta\n",
    "    M[0][1] = 2/h/h\n",
    "    M[-1][-1] = 1\n",
    "    for i in range(1, n-1):\n",
    "        M[i][i-1] = 1/(h*h) - p(x[i])/(2*h)\n",
    "        M[i][i] = q(x[i]) - 2/(h*h)\n",
    "        M[i][i+1] = 1/(h*h) + p(x[i])/(2*h)\n",
    "    F = np.zeros(n)\n",
    "    F[0] = f(x[0]) + 2*ya/beta/h - p(x[0])*ya/beta\n",
    "    F[-1] = yb  \n",
    "    for i in range(1, n-1):\n",
    "        F[i] = f(x[i])\n",
    "    result = tridiag(M, F)\n",
    "    return result\n",
    "\n",
    "x = np.linspace(a, b, n)\n",
    "y = fictDot(x, alpha, beta, ya, yb, p, q, f)\n",
    "plt.plot(x, y_real(x), label='real')\n",
    "plt.plot(x, y, label='solved')\n",
    "plt.show() "
   ]
  },
  {
   "cell_type": "markdown",
   "id": "d0f8dce9",
   "metadata": {},
   "source": [
    "## 2.3 Accuracy"
   ]
  },
  {
   "cell_type": "code",
   "execution_count": 70,
   "id": "9000040b",
   "metadata": {},
   "outputs": [
    {
     "name": "stdout",
     "output_type": "stream",
     "text": [
      "Order of accuracy =  2.069587591329805\n"
     ]
    },
    {
     "data": {
      "image/png": "[encoded data removed]",
      "text/plain": [
       "<Figure size 432x288 with 1 Axes>"
      ]
     },
     "metadata": {
      "needs_background": "light"
     },
     "output_type": "display_data"
    }
   ],
   "source": [
    "index = np.log([i for i in range(10, n)])\n",
    "value = np.log([max(abs(fictDot(np.linspace(a, b, i), alpha, beta, ya, yb, p, q, f)-np.sin(np.linspace(a, b, i)))) for i in range(10, n)])\n",
    "a1, b1 = np.polyfit(index, value, 1)\n",
    "print(\"Order of accuracy = \", -a1)\n",
    "plt.plot(index, value)\n",
    "plt.show()"
   ]
  }
 ],
 "metadata": {
  "kernelspec": {
   "display_name": "Python 3 (ipykernel)",
   "language": "python",
   "name": "python3"
  },
  "language_info": {
   "codemirror_mode": {
    "name": "ipython",
    "version": 3
   },
   "file_extension": ".py",
   "mimetype": "text/x-python",
   "name": "python",
   "nbconvert_exporter": "python",
   "pygments_lexer": "ipython3",
   "version": "3.9.7"
  }
 },
 "nbformat": 4,
 "nbformat_minor": 5
}
