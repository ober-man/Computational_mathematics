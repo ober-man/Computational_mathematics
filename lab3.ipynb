{
 "cells": [
  {
   "cell_type": "markdown",
   "id": "423eef3c",
   "metadata": {},
   "source": [
    "# Lab work 3\n",
    "## Numeric solution of a non-linear equation"
   ]
  },
  {
   "cell_type": "markdown",
   "id": "d3f1bd92",
   "metadata": {},
   "source": [
    "## 1. Bisection method"
   ]
  },
  {
   "cell_type": "markdown",
   "id": "4dfe86b4",
   "metadata": {},
   "source": [
    "This simple algorithm for solving a non-linear equation f(x) = 0 is based on Bolzano-Cauchy's theorem: \n",
    "$ f \\in C[a,b]; ~ sign(f(a)) \\ne sign(f(b))  \\rightarrow \\exists c \\in [a,b] : f(c) = 0 $  \n",
    "\n",
    "So to find a solution we need an interval $ I = [a,b] $ where $ sign(f(a)) \\ne sign(f(b)) $  \n",
    "At each step of this algorithm we find a value at the middle of current interval $ x_{m} = \\frac{a + b}{2} $  \n",
    "and compare it with zero, finding a subinterval, where $ sign(f(a)) \\ne sign(f(b)) $\n",
    "\n",
    "Process can be ended, when $ |f(x_m)| < \\varepsilon $. Then $ x_m $ is a solution.\n",
    "\n",
    "One of disadvantages of this method is impossibility to find a solution of an even multiplicity, because in this case the graphic only touch the line $ y = 0 $ and the main condition $ sign(f(a)) \\ne sign(f(b)) $ isn't true."
   ]
  },
  {
   "cell_type": "code",
   "execution_count": 2,
   "id": "b942138f",
   "metadata": {},
   "outputs": [
    {
     "data": {
      "image/png": "[encoded data removed]",
      "text/plain": [
       "<Figure size 432x288 with 1 Axes>"
      ]
     },
     "metadata": {
      "needs_background": "light"
     },
     "output_type": "display_data"
    },
    {
     "name": "stdout",
     "output_type": "stream",
     "text": [
      "My algorithm: x =  3.1415927410125732\n",
      "Embedded method: x =  3.1415929794311523\n"
     ]
    }
   ],
   "source": [
    "import numpy as np\n",
    "import matplotlib.pyplot as plt\n",
    "import scipy.optimize as sco\n",
    "\n",
    "# find a sign of a number with accuracy = eps\n",
    "def sign(x, eps):\n",
    "    return x >= eps\n",
    "\n",
    "def bisection(f, a, b, eps):\n",
    "    if sign(f(a), eps) == sign(f(b), eps):\n",
    "        raise ValueError(\"no solution on this interval\")\n",
    "    \n",
    "    x = (a + b) / 2 \n",
    "    while(abs(f(x)) >= eps):\n",
    "        if sign(f(a), eps) != sign(f(x), eps):\n",
    "            b = x\n",
    "        else:\n",
    "            a = x\n",
    "        x = (a + b) / 2\n",
    "    \n",
    "    return x\n",
    "\n",
    "# make a function\n",
    "x = np.linspace(1, 10, 100)\n",
    "f = lambda x: x**2*np.sin(x)\n",
    "plt.plot(x, f(x))\n",
    "plt.grid()\n",
    "plt.show()\n",
    "\n",
    "# interval\n",
    "a = 2\n",
    "b = 4\n",
    "try:\n",
    "    print(\"My algorithm: x = \", bisection(f, a, b, 1e-6))\n",
    "    print(\"Embedded method: x = \", sco.bisect(f, a, b, xtol=1e-6))\n",
    "    \n",
    "except ValueError as err:\n",
    "    print(\"ValueError: \" + str(err))"
   ]
  },
  {
   "cell_type": "markdown",
   "id": "997d882b",
   "metadata": {},
   "source": [
    "## Iterative methods"
   ]
  },
  {
   "cell_type": "markdown",
   "id": "cde2bf5a",
   "metadata": {},
   "source": [
    "## 2. Newton's method or tangent method"
   ]
  },
  {
   "cell_type": "markdown",
   "id": "b9272e2d",
   "metadata": {},
   "source": [
    "Using the fixed-point iteration method $ x = \\varphi(x) = x - \\lambda(x)f(x) $,  \n",
    "where $ \\lambda(x) $ takes the optimal value: $ \\lambda(x) = \\frac{1}{f'(x)} $,  \n",
    "we make an iterative procedure: $ x_{k+1} = x_k - \\frac{f(x_k)}{f'(x_k)}, x_0 = a $\n",
    "\n",
    "Method converges, if $ f'(x) $ exists and  $ f'(x) \\ne 0 ; ~ \\left|\\frac{1}{f'_{x}(x)}\\right| \\le C_1; ~ |f_{xx}^{\"}(x)| \\le C_2 $ on $ I = [a,b]; ~ C_1^2 C_2 |f(x_0)| < 1 $\n",
    "\n",
    "It's worth to notice that not all start values lead to correct result. The process can diverge if there was too big or too small value."
   ]
  },
  {
   "cell_type": "code",
   "execution_count": 3,
   "id": "a88bf545",
   "metadata": {},
   "outputs": [
    {
     "data": {
      "image/png": "[encoded data removed]",
      "text/plain": [
       "<Figure size 432x288 with 1 Axes>"
      ]
     },
     "metadata": {
      "needs_background": "light"
     },
     "output_type": "display_data"
    },
    {
     "name": "stdout",
     "output_type": "stream",
     "text": [
      "Newton's algorithm: x =  -0.0009765625\n"
     ]
    }
   ],
   "source": [
    "import sympy as sp\n",
    "\n",
    "def Newton(f, der, a, eps):\n",
    "    x = a\n",
    "    counter = 0\n",
    "    while True:\n",
    "        if counter > 1000:\n",
    "            print(\"the method diverges\")\n",
    "            return None\n",
    "        \n",
    "        x = x - f(x) / der(x)\n",
    "        if abs(f(x)) < eps:\n",
    "            break\n",
    "        counter += 1\n",
    "    return x\n",
    "\n",
    "# test\n",
    "f = lambda x : x**2\n",
    "der = lambda x : 2*x\n",
    "\n",
    "x = np.linspace(-5, 5, 100)\n",
    "plt.plot(x, f(x))\n",
    "plt.grid()\n",
    "plt.show()\n",
    "\n",
    "a = -1\n",
    "b = 1\n",
    "print(\"Newton's algorithm: x = \", Newton(f, der, a, 1e-6))"
   ]
  },
  {
   "cell_type": "markdown",
   "id": "5772deda",
   "metadata": {},
   "source": [
    "## 3. Secant method"
   ]
  },
  {
   "cell_type": "markdown",
   "id": "af7d7c3b",
   "metadata": {},
   "source": [
    "If one doesn't want to calculate the derivative of the function, this method can be used.  \n",
    "The derivative calculated by the formula $ f'(x) = \\frac{f(x_{k}) - f(x_{k-1})}{x_{k} - x_{k-1}} $ with accuracy = $O(h)$  \n",
    "\n",
    "So we make iterative procedure $ x_{k+1} = x_k - f(x_k)\\frac{x_{k} - x_{k-1}}{f(x_{k}) - f(x_{k-1})}, x_0 = a $\n",
    "\n",
    "Process can be ended, when $ |x_{k}-x_{k-1}| < \\varepsilon $. Then $ x_k $ is a solution."
   ]
  },
  {
   "cell_type": "code",
   "execution_count": 4,
   "id": "f10b64d6",
   "metadata": {},
   "outputs": [
    {
     "data": {
      "image/png": "[encoded data removed]",
      "text/plain": [
       "<Figure size 432x288 with 1 Axes>"
      ]
     },
     "metadata": {
      "needs_background": "light"
     },
     "output_type": "display_data"
    },
    {
     "name": "stdout",
     "output_type": "stream",
     "text": [
      "Secant algorithm: x =  0.6435011087861244\n",
      "Embedded method: x =  0.6435003280639648\n"
     ]
    }
   ],
   "source": [
    "def secant(f, der, a, eps):\n",
    "    x_prev = a\n",
    "    x = a + eps\n",
    "    counter = 0\n",
    "    while True:\n",
    "        if counter > 1000:\n",
    "            print(\"the method diverges\")\n",
    "            return None\n",
    "        \n",
    "        x, x_prev = x - f(x)*(x-x_prev) / (f(x)-f(x_prev)) , x\n",
    "        if abs(x - x_prev) < eps:\n",
    "            break\n",
    "        counter += 1\n",
    "    return x\n",
    "\n",
    "# test\n",
    "f = lambda x : np.sin(x) - 0.6\n",
    "\n",
    "x = np.linspace(-5, 5, 100)\n",
    "plt.plot(x, f(x))\n",
    "plt.grid()\n",
    "plt.show()\n",
    "\n",
    "a = 0\n",
    "b = 1\n",
    "print(\"Secant algorithm: x = \", secant(f, der, a, 1e-6))\n",
    "print(\"Embedded method: x = \", sco.bisect(f, a, b, xtol=1e-6))"
   ]
  },
  {
   "cell_type": "markdown",
   "id": "7fc83d0e",
   "metadata": {},
   "source": [
    "## 4. One tangent method"
   ]
  },
  {
   "cell_type": "markdown",
   "id": "610d21af",
   "metadata": {},
   "source": [
    "To reduce the number of using the derivative, one can use only the value $ f'(a) $ in the initial point $ x_0 = a $.  \n",
    "So $ x_{k+1} = x_k - \\frac{f(x_k)}{f'(a)}, x_0 = a $"
   ]
  },
  {
   "cell_type": "code",
   "execution_count": 5,
   "id": "83578d63",
   "metadata": {},
   "outputs": [
    {
     "data": {
      "image/png": "[encoded data removed]",
      "text/plain": [
       "<Figure size 432x288 with 1 Axes>"
      ]
     },
     "metadata": {
      "needs_background": "light"
     },
     "output_type": "display_data"
    },
    {
     "name": "stdout",
     "output_type": "stream",
     "text": [
      "One tangent algorithm: x =  0.33987688661275006\n",
      "Embedded method: x =  0.3398771286010742\n"
     ]
    }
   ],
   "source": [
    "def tangent(f, der_a, a, eps):\n",
    "    x = a\n",
    "    der_a = der(a)\n",
    "    counter = 0\n",
    "    while True:\n",
    "        if counter > 1000:\n",
    "            print(\"the method diverges\")\n",
    "            return None\n",
    "        \n",
    "        x = x - f(x) / der_a\n",
    "        if abs(f(x)) < eps:\n",
    "            break\n",
    "        counter += 1\n",
    "    return x\n",
    "\n",
    "# test\n",
    "f = lambda x : x**3 - 6*x + 2\n",
    "der = lambda x : 3*x**2 - 6\n",
    "\n",
    "x = np.linspace(-5, 5, 100)\n",
    "plt.plot(x, f(x))\n",
    "plt.grid()\n",
    "plt.show()\n",
    "\n",
    "a = 0\n",
    "b = 1\n",
    "print(\"One tangent algorithm: x = \", Newton(f, der, a, 1e-6))\n",
    "print(\"Embedded method: x = \", sco.bisect(f, a, b, xtol=1e-6))"
   ]
  },
  {
   "cell_type": "markdown",
   "id": "55a23f57",
   "metadata": {},
   "source": [
    "## System of non-linear equations"
   ]
  },
  {
   "cell_type": "markdown",
   "id": "f0723d57",
   "metadata": {},
   "source": [
    "## 5. Newton method"
   ]
  },
  {
   "cell_type": "markdown",
   "id": "82c80870",
   "metadata": {},
   "source": [
    "We want to solve a system\n",
    "$$ \n",
    "\\begin{cases}\n",
    "   f_1(x_1 \\ldots x_n) = 0 \\\\\n",
    "   \\ldots \\\\\n",
    "   f_n(x_1 \\ldots x_n) = 0\n",
    " \\end{cases}\n",
    "$$\n",
    "Make an iterative procedure, using the Taylor series:\n",
    "$$ \n",
    "\\begin{cases}\n",
    "   f_1^{k+1} = f_1^k + \\left(\\frac{\\partial f_1}{\\partial x_1}\\right)^k \\Delta_1^k + \\ldots + \\left(\\frac{\\partial f_1}{\\partial x_n}\\right)^k \\Delta_k^k \\\\\n",
    "   \\ldots \\\\\n",
    "   f_n^{k+1} = f_n^k + \\left(\\frac{\\partial f_n}{\\partial x_1}\\right)^k \\Delta_1^k + \\ldots + \\left(\\frac{\\partial f_n}{\\partial x_n}\\right)^k  \\Delta_n^k\n",
    " \\end{cases}\n",
    "$$\n",
    "\n",
    "To find $ \\Delta_i^i $, one have to solve a linear system $ J^k\\Delta^k = -f^k $, where $J$ is a Jacobi matrix with substitution $ x = x^k $:\n",
    "$$\n",
    "J = \\begin{pmatrix} \n",
    "\\frac{\\partial f_1}{\\partial x_1}& \\ldots & \\frac{\\partial f_1}{\\partial x_n} \\\\\n",
    "\\ldots & \\ldots & \\ldots \\\\\n",
    "\\frac{\\partial f_n}{\\partial x_1} & \\ldots & \\frac{\\partial f_n}{\\partial x_n} \\\\\n",
    "\\end{pmatrix}\n",
    "$$\n",
    "and $ \\Delta^k = x^{k+1} - x^{k} $\n",
    "\n",
    "So $ x^{k+1} = x^{k} - f^{k} \\cdot \\left(J^{k}\\right)^{-1} $"
   ]
  },
  {
   "cell_type": "code",
   "execution_count": 74,
   "id": "0e4badbf",
   "metadata": {},
   "outputs": [
    {
     "data": {
      "image/png": "[encoded data removed]",
      "text/plain": [
       "<Figure size 432x288 with 1 Axes>"
      ]
     },
     "metadata": {
      "needs_background": "light"
     },
     "output_type": "display_data"
    },
    {
     "name": "stdout",
     "output_type": "stream",
     "text": [
      "Newton's algorithm: x =  [-7.06144329e-07  1.00000000e+00]\n",
      "Embedded algorithm: x =  [-2.31776076e-15  1.00000000e+00]\n"
     ]
    }
   ],
   "source": [
    "import numpy.linalg as la\n",
    "\n",
    "# old function for solving linear system\n",
    "def gradDesc(A, b, eps):\n",
    "    n = b.size\n",
    "    x = np.zeros(n)\n",
    "    counter = 0\n",
    "    while True:\n",
    "        if counter > 1000:\n",
    "            print(\"the method diverges\")\n",
    "            return x\n",
    "        r = A.dot(x) - b\n",
    "        if la.norm(r, 2) < eps:\n",
    "            break\n",
    "        tau = r.dot(r) / A.dot(r).dot(r)\n",
    "        x = x - tau*r\n",
    "        counter += 1\n",
    "    return x\n",
    "\n",
    "\n",
    "def NewtonSystem(f, J, a, eps):\n",
    "    n = a.size\n",
    "    x = a\n",
    "    counter = 0\n",
    "    while True:\n",
    "        if counter > 1000:\n",
    "            print(\"the method diverges\")\n",
    "            return x\n",
    "        \n",
    "        f_k = np.array(f(x))\n",
    "        for i in range (n):\n",
    "            f_k[i] = -f_k[i]\n",
    "        J_k = np.array(J(x))\n",
    "                \n",
    "        delta = gradDesc(J_k, f_k, eps)\n",
    "        x = x + delta\n",
    "        if abs(sum(f(x))) < eps:\n",
    "            break\n",
    "        counter += 1\n",
    "    return x\n",
    "\n",
    "# test\n",
    "def f(x):\n",
    "    return [x[0] + 2*x[1] - 2, x[0]**2 + 4*x[1]**2 - 4]\n",
    "    \n",
    "def Jacobi(x):\n",
    "    return [[1, 2], [2*x[0], 8*x[1]]]\n",
    "\n",
    "x, y = sp.symbols('x y')\n",
    "plot1 = sp.plot_implicit(sp.Eq(x + 2*y, 2), show=False)\n",
    "plot2 = sp.plot_implicit(sp.Eq(x**2 + 4*y**2, 4), show=False)\n",
    "plot1.append(plot2[0])\n",
    "plot1.show()\n",
    "\n",
    "a = np.array([0.1, 0.1])\n",
    "print(\"Newton's algorithm: x = \", NewtonSystem(f, Jacobi, a, 1e-6))\n",
    "print(\"Embedded algorithm: x = \", sco.fsolve(f, a))"
   ]
  }
 ],
 "metadata": {
  "kernelspec": {
   "display_name": "Python 3 (ipykernel)",
   "language": "python",
   "name": "python3"
  },
  "language_info": {
   "codemirror_mode": {
    "name": "ipython",
    "version": 3
   },
   "file_extension": ".py",
   "mimetype": "text/x-python",
   "name": "python",
   "nbconvert_exporter": "python",
   "pygments_lexer": "ipython3",
   "version": "3.9.7"
  }
 },
 "nbformat": 4,
 "nbformat_minor": 5
}
